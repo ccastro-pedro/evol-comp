{
 "cells": [
  {
   "cell_type": "markdown",
   "metadata": {},
   "source": [
    "# TP2 - Análise de hiper-parâmetros no PSO\n",
    "Aluno: Pedro Augusto de Castro e Castro\n",
    "\n",
    "Para este trabalho foram desenvolvidos dois algoritmos para otimização, o Global Best PSO (gbest PSO) e o Local Best PSO em anel (lbest PSO). Para avaliar o desempenho de cada um, foram escolhidas duas funções de benchmarking, uma unimodal (sphere) e a outra multimodal (rastrigin). Além disso, este trabalho visa comparar os fatores de inércia (w) e de constrição (X). \n",
    "\n"
   ]
  },
  {
   "cell_type": "code",
   "execution_count": 1,
   "metadata": {},
   "outputs": [
    {
     "name": "stdout",
     "output_type": "stream",
     "text": [
      "Requirement already satisfied: tabulate in c:\\users\\t-gamer\\appdata\\local\\programs\\python\\python38-32\\lib\\site-packages (0.8.7)\n"
     ]
    }
   ],
   "source": [
    "import random\n",
    "import math\n",
    "import sys\n",
    "!{sys.executable} -m pip install tabulate;\n",
    "from tabulate import tabulate\n",
    "\n",
    "nv = 10 # número de variáveis\n",
    "qtd = 31 # numero de execuções\n",
    "initial_fitness = float(\"inf\") \n",
    "bounds = [(-100, 100) for _ in range(nv)]\n",
    "\n",
    "iterations = 25 #10\n",
    "particle_size = int(100000 / iterations)    \n",
    "\n",
    "def objective_function_sphere(xx):\n",
    "    y = sum([xi ** 2 for xi in xx])\n",
    "    return y\n",
    "\n",
    "def objective_function_rastrigin(xx):\n",
    "    y = 10 * len(xx) + sum([xi ** 2 - 10 * math.cos(2 * math.pi * xi) for xi in xx])\n",
    "    return y\n",
    "\n",
    "mean = lambda x: sum(x) / len(x)\n",
    "\n",
    "std_dev = lambda y: math.sqrt(\n",
    "    sum(\n",
    "        list(\n",
    "            map(lambda x: (x - mean(y)) ** 2, y)\n",
    "        )\n",
    "    ) / len(y))\n",
    "     "
   ]
  },
  {
   "cell_type": "markdown",
   "metadata": {},
   "source": [
    "Uma classe chamada Particle foi implementada, de forma a simular uma única partícula no PSO. Essa classe guarda a posição atual da partícula, a sua melhor posição local, sua velocidade, além de possuir métodos para avaliar a função objetivo e atualizar a velocidade e posição.  "
   ]
  },
  {
   "cell_type": "code",
   "execution_count": 2,
   "metadata": {},
   "outputs": [],
   "source": [
    "class Particle:\n",
    "    def __init__(self,bounds):\n",
    "        self.particle_position=[]                     # posição da partícula\n",
    "        self.particle_velocity=[]                     # velocidade da partícula\n",
    "        self.local_best_particle_position=[]          # melhor posição da partícula\n",
    "        self.fitness_local_best_particle_position= initial_fitness  # valor da função objetivo inicial da partícula com a melhor posição\n",
    "        self.fitness_particle_position=initial_fitness             # valor da função objetivo inicial da partícula\n",
    " \n",
    "        for i in range(nv):\n",
    "            self.particle_position.append(random.uniform(bounds[i][0],bounds[i][1])) # gerar uma posição inicial aleatória\n",
    "            self.particle_velocity.append(random.uniform(-1,1)) # gerar uma velocidade aleatória\n",
    " \n",
    "    def evaluate(self,objective_function):\n",
    "        self.fitness_particle_position=objective_function(self.particle_position)           \n",
    "        if self.fitness_particle_position < self.fitness_local_best_particle_position:\n",
    "            self.local_best_particle_position=self.particle_position                  # update o melhor local\n",
    "            self.fitness_local_best_particle_position=self.fitness_particle_position  # update o fitness do melhor local\n",
    "\n",
    "    def update_velocity(self, global_best_particle_position):\n",
    "        for i in range(nv):\n",
    "            r1=random.random()\n",
    "            r2=random.random() \n",
    "            cognitive_velocity = c1*r1*(self.local_best_particle_position[i] - self.particle_position[i])\n",
    "            social_velocity = c2*r2*(global_best_particle_position[i] - self.particle_position[i])\n",
    "            self.particle_velocity[i] = X*(w*self.particle_velocity[i] + cognitive_velocity + social_velocity)\n",
    " \n",
    "    def update_position(self,bounds):\n",
    "        for i in range(nv):\n",
    "            self.particle_position[i]=self.particle_position[i]+self.particle_velocity[i]\n",
    " \n",
    "            # checar e arrumar para satisfazer os limites superiores\n",
    "            if self.particle_position[i]>bounds[i][1]:\n",
    "                self.particle_position[i]=bounds[i][1]\n",
    "            # checar e arrumar para satisfazer os limites inferiores\n",
    "            if self.particle_position[i] < bounds[i][0]:\n",
    "                self.particle_position[i]=bounds[i][0]\n",
    "                "
   ]
  },
  {
   "cell_type": "markdown",
   "metadata": {},
   "source": [
    "A implementação de ambos os códigos PSO (lbest e gbest) são apresentadas abaixo. Para o lbest, foi definida uma vizinhança em anel, onde cada partícula se comunicava somente com seus 2 vizinhos imediatos. Sendo assim, o Global Best variava de partícula para partícula. Já no gbest PSO a vizinhança de uma partícula era toda a população, e sendo assim, o Global Best era igual para todas."
   ]
  },
  {
   "cell_type": "code",
   "execution_count": 3,
   "metadata": {},
   "outputs": [],
   "source": [
    "class lbest_PSO():\n",
    "    def __init__(self,objective_function,bounds,particle_size,iterations):\n",
    " \n",
    "        self.fitness_global_best_particle_position=initial_fitness\n",
    "        self.global_ring_best_particle_position=[[] * nv] * particle_size\n",
    "        self.global_best_particle_position=[]\n",
    " \n",
    "        swarm_particle=[]\n",
    "        for i in range(particle_size):\n",
    "            swarm_particle.append(Particle(bounds))\n",
    "            \n",
    "        self.GB=[]         \n",
    "        for i in range(iterations):\n",
    "            for j in range(particle_size):\n",
    "                swarm_particle[j].evaluate(objective_function)\n",
    "                \n",
    "            for j in range(particle_size):\n",
    "                first_index = (j - 1) % len(swarm_particle)\n",
    "                last_index = (j + 1) % len(swarm_particle)\n",
    "\n",
    "                neigh_ring = [swarm_particle[first_index], \n",
    "                              swarm_particle[j], \n",
    "                              swarm_particle[last_index]]                    \n",
    "\n",
    "                ind = list(map(lambda x: x.fitness_local_best_particle_position, neigh_ring)).index(\n",
    "                    min(list(map(lambda x: x.fitness_local_best_particle_position, neigh_ring))))\n",
    "\n",
    "                self.global_ring_best_particle_position[j] = neigh_ring[ind].particle_position\n",
    "\n",
    "                if neigh_ring[ind].fitness_local_best_particle_position < self.fitness_global_best_particle_position:                        \n",
    "                    self.global_best_particle_position = neigh_ring[ind].particle_position\n",
    "                    self.fitness_global_best_particle_position = \\\n",
    "                        float(neigh_ring[ind].fitness_local_best_particle_position)\n",
    "            for j in range(particle_size):\n",
    "                swarm_particle[j].update_velocity(self.global_ring_best_particle_position[j])\n",
    "                swarm_particle[j].update_position(bounds)\n",
    "                 \n",
    "\n",
    "    def gbest(self):\n",
    "        return self.fitness_global_best_particle_position\n"
   ]
  },
  {
   "cell_type": "code",
   "execution_count": 4,
   "metadata": {},
   "outputs": [],
   "source": [
    "class gbest_PSO():\n",
    "    def __init__(self,objective_function,bounds,particle_size,iterations):\n",
    " \n",
    "        self.fitness_global_best_particle_position=initial_fitness\n",
    "        self.global_best_particle_position=[]\n",
    " \n",
    "        swarm_particle=[]\n",
    "        for i in range(particle_size):\n",
    "            swarm_particle.append(Particle(bounds))\n",
    "            \n",
    "        self.GB=[]         \n",
    "        for i in range(iterations):\n",
    "            for j in range(particle_size):\n",
    "                swarm_particle[j].evaluate(objective_function)\n",
    "                if swarm_particle[j].fitness_particle_position < self.fitness_global_best_particle_position:\n",
    "                    self.global_best_particle_position = list(swarm_particle[j].particle_position)\n",
    "                    self.fitness_global_best_particle_position = float(swarm_particle[j].fitness_particle_position)\n",
    "            for j in range(particle_size):\n",
    "                swarm_particle[j].update_velocity(self.global_best_particle_position)\n",
    "                swarm_particle[j].update_position(bounds)\n",
    "                 \n",
    "            self.GB.append(self.fitness_global_best_particle_position) # grava o melhor fitness\n",
    "\n",
    "\n",
    "    def gbest(self):\n",
    "        return self.fitness_global_best_particle_position\n",
    "    "
   ]
  },
  {
   "cell_type": "markdown",
   "metadata": {},
   "source": [
    "Definição da função para calcular a média e o desvio padrão dos casos a serem estudados:"
   ]
  },
  {
   "cell_type": "code",
   "execution_count": 5,
   "metadata": {},
   "outputs": [],
   "source": [
    "def calc_mean_dev(objective_function):\n",
    "    lbest = []\n",
    "    gbest = []\n",
    "    print(f\"Configuração: X = {X}, w = {w}\")\n",
    "    for i in range(qtd):\n",
    "        var_lbest = lbest_PSO(objective_function,bounds,particle_size,iterations)\n",
    "        lbest.append(var_lbest.gbest())    \n",
    "        var_gbest = gbest_PSO(objective_function,bounds,particle_size,iterations)\n",
    "        gbest.append(var_gbest.gbest()) \n",
    "    mean_lbest = mean(lbest)\n",
    "    std_dev_lbest = std_dev(lbest)\n",
    "    mean_gbest = mean(gbest)\n",
    "    std_dev_gbest = std_dev(gbest)\n",
    "    return mean_lbest, std_dev_lbest, mean_gbest, std_dev_gbest"
   ]
  },
  {
   "cell_type": "markdown",
   "metadata": {},
   "source": [
    "# Case 1: X = 1.0 e w = 1.0"
   ]
  },
  {
   "cell_type": "code",
   "execution_count": 6,
   "metadata": {},
   "outputs": [],
   "source": [
    "X = 1.0\n",
    "w = 1.0"
   ]
  },
  {
   "cell_type": "markdown",
   "metadata": {},
   "source": [
    "## Sphere function:"
   ]
  },
  {
   "cell_type": "code",
   "execution_count": 7,
   "metadata": {
    "scrolled": false
   },
   "outputs": [
    {
     "name": "stdout",
     "output_type": "stream",
     "text": [
      "Configuração: X = 1.0, w = 1.0\n",
      "lbest PSO Sphere => valor médio = 3688.39, desvio padrão = 949.44\n",
      "gbest PSO Sphere => valor médio = 1352.92, desvio padrão = 373.41\n"
     ]
    }
   ],
   "source": [
    " # Main PSO  - Sphere\n",
    "c1 = 1.655 #0.3\n",
    "c2 = 1.655 #0.2\n",
    "\n",
    "mean_lbest_sphere_case1, std_dev_lbest_sphere_case1, mean_gbest_sphere_case1, std_dev_gbest_sphere_case1 = calc_mean_dev(objective_function_sphere)\n",
    "\n",
    "print(f'lbest PSO Sphere => valor médio = {mean_lbest_sphere_case1:.2f}, desvio padrão = {std_dev_lbest_sphere_case1:.2f}')\n",
    "print(f'gbest PSO Sphere => valor médio = {mean_gbest_sphere_case1:.2f}, desvio padrão = {std_dev_gbest_sphere_case1:.2f}')\n",
    "\n"
   ]
  },
  {
   "cell_type": "markdown",
   "metadata": {},
   "source": [
    "## Rastrigin function:"
   ]
  },
  {
   "cell_type": "code",
   "execution_count": 8,
   "metadata": {},
   "outputs": [
    {
     "name": "stdout",
     "output_type": "stream",
     "text": [
      "Configuração: X = 1.0, w = 1.0\n",
      "lbest PSO Rastrigin => valor médio = 3389.93, desvio padrão = 950.48\n",
      "gbest PSO Rastrigin => valor médio = 1498.93, desvio padrão = 401.18\n"
     ]
    }
   ],
   "source": [
    "# Main PSO  - Rastrigin\n",
    "c1 = 1.655\n",
    "c2 = 1.655\n",
    "\n",
    "mean_lbest_rastrigin_case1, std_dev_lbest_rastrigin_case1, mean_gbest_rastrigin_case1, std_dev_gbest_rastrigin_case1 = calc_mean_dev(objective_function_rastrigin)\n",
    "\n",
    "print(f'lbest PSO Rastrigin => valor médio = {mean_lbest_rastrigin_case1:.2f}, desvio padrão = {std_dev_lbest_rastrigin_case1:.2f}')\n",
    "print(f'gbest PSO Rastrigin => valor médio = {mean_gbest_rastrigin_case1:.2f}, desvio padrão = {std_dev_gbest_rastrigin_case1:.2f}')\n",
    "\n"
   ]
  },
  {
   "cell_type": "markdown",
   "metadata": {},
   "source": [
    "# Case 2: X = 1.0 e w = 0.7298"
   ]
  },
  {
   "cell_type": "code",
   "execution_count": 9,
   "metadata": {},
   "outputs": [],
   "source": [
    "X = 1.0\n",
    "w = 0.7298"
   ]
  },
  {
   "cell_type": "markdown",
   "metadata": {},
   "source": [
    "## Sphere function:"
   ]
  },
  {
   "cell_type": "code",
   "execution_count": 10,
   "metadata": {},
   "outputs": [
    {
     "name": "stdout",
     "output_type": "stream",
     "text": [
      "Configuração: X = 1.0, w = 0.7298\n",
      "lbest PSO Sphere => valor médio = 3070.04, desvio padrão = 666.91\n",
      "gbest PSO Sphere => valor médio = 59.23, desvio padrão = 26.03\n"
     ]
    }
   ],
   "source": [
    " # Main PSO  - Sphere\n",
    "c1 = 1.655\n",
    "c2 = 1.655\n",
    "\n",
    "mean_lbest_sphere_case2, std_dev_lbest_sphere_case2, mean_gbest_sphere_case2, std_dev_gbest_sphere_case2 = calc_mean_dev(objective_function_sphere)\n",
    "\n",
    "print(f'lbest PSO Sphere => valor médio = {mean_lbest_sphere_case2:.2f}, desvio padrão = {std_dev_lbest_sphere_case2:.2f}')\n",
    "print(f'gbest PSO Sphere => valor médio = {mean_gbest_sphere_case2:.2f}, desvio padrão = {std_dev_gbest_sphere_case2:.2f}')\n"
   ]
  },
  {
   "cell_type": "markdown",
   "metadata": {},
   "source": [
    "## Rastrigin function:"
   ]
  },
  {
   "cell_type": "code",
   "execution_count": 11,
   "metadata": {},
   "outputs": [
    {
     "name": "stdout",
     "output_type": "stream",
     "text": [
      "Configuração: X = 1.0, w = 0.7298\n",
      "lbest PSO Rastrigin => valor médio = 3233.07, desvio padrão = 704.30\n",
      "gbest PSO Rastrigin => valor médio = 160.84, desvio padrão = 31.16\n"
     ]
    }
   ],
   "source": [
    "# Main PSO  - Rastrigin\n",
    "c1 = 1.655\n",
    "c2 = 1.655\n",
    "\n",
    "mean_lbest_rastrigin_case2, std_dev_lbest_rastrigin_case2, mean_gbest_rastrigin_case2, std_dev_gbest_rastrigin_case2 = calc_mean_dev(objective_function_rastrigin)\n",
    "\n",
    "print(f'lbest PSO Rastrigin => valor médio = {mean_lbest_rastrigin_case2:.2f}, desvio padrão = {std_dev_lbest_rastrigin_case2:.2f}')\n",
    "print(f'gbest PSO Rastrigin => valor médio = {mean_gbest_rastrigin_case2:.2f}, desvio padrão = {std_dev_gbest_rastrigin_case2:.2f}')\n",
    "\n"
   ]
  },
  {
   "cell_type": "markdown",
   "metadata": {},
   "source": [
    "# Caso 3: X = 0.7298 e w = 1"
   ]
  },
  {
   "cell_type": "code",
   "execution_count": 12,
   "metadata": {},
   "outputs": [],
   "source": [
    "X = 0.7298\n",
    "w = 1.0"
   ]
  },
  {
   "cell_type": "markdown",
   "metadata": {},
   "source": [
    "## Sphere function:"
   ]
  },
  {
   "cell_type": "code",
   "execution_count": 13,
   "metadata": {},
   "outputs": [
    {
     "name": "stdout",
     "output_type": "stream",
     "text": [
      "Configuração: X = 0.7298, w = 1.0\n",
      "lbest PSO Sphere => valor médio = 2480.56, desvio padrão = 405.83\n",
      "gbest PSO Sphere => valor médio = 20.58, desvio padrão = 8.03\n"
     ]
    }
   ],
   "source": [
    " # Main PSO  - Sphere\n",
    "c1 = 1.655\n",
    "c2 = 1.655\n",
    "\n",
    "mean_lbest_sphere_case3, std_dev_lbest_sphere_case3, mean_gbest_sphere_case3, std_dev_gbest_sphere_case3 = calc_mean_dev(objective_function_sphere)\n",
    "\n",
    "print(f'lbest PSO Sphere => valor médio = {mean_lbest_sphere_case3:.2f}, desvio padrão = {std_dev_lbest_sphere_case3:.2f}')\n",
    "print(f'gbest PSO Sphere => valor médio = {mean_gbest_sphere_case3:.2f}, desvio padrão = {std_dev_gbest_sphere_case3:.2f}')\n"
   ]
  },
  {
   "cell_type": "markdown",
   "metadata": {},
   "source": [
    "## Rastrigin function:"
   ]
  },
  {
   "cell_type": "code",
   "execution_count": 14,
   "metadata": {},
   "outputs": [
    {
     "name": "stdout",
     "output_type": "stream",
     "text": [
      "Configuração: X = 0.7298, w = 1.0\n",
      "lbest PSO Rastrigin => valor médio = 2522.14, desvio padrão = 745.15\n",
      "gbest PSO Rastrigin => valor médio = 98.96, desvio padrão = 16.09\n"
     ]
    }
   ],
   "source": [
    "# Main PSO  - Rastrigin\n",
    "c1 = 1.655\n",
    "c2 = 1.655\n",
    "\n",
    "mean_lbest_rastrigin_case3, std_dev_lbest_rastrigin_case3, mean_gbest_rastrigin_case3, std_dev_gbest_rastrigin_case3 = calc_mean_dev(objective_function_rastrigin)\n",
    "\n",
    "print(f'lbest PSO Rastrigin => valor médio = {mean_lbest_rastrigin_case3:.2f}, desvio padrão = {std_dev_lbest_rastrigin_case3:.2f}')\n",
    "print(f'gbest PSO Rastrigin => valor médio = {mean_gbest_rastrigin_case3:.2f}, desvio padrão = {std_dev_gbest_rastrigin_case3:.2f}')\n"
   ]
  },
  {
   "cell_type": "markdown",
   "metadata": {},
   "source": [
    "# Caso 4: X = 0.7298 e w = 0.7298"
   ]
  },
  {
   "cell_type": "code",
   "execution_count": 15,
   "metadata": {},
   "outputs": [],
   "source": [
    "X = 0.7298\n",
    "w = 0.7298"
   ]
  },
  {
   "cell_type": "markdown",
   "metadata": {},
   "source": [
    "## Sphere function:"
   ]
  },
  {
   "cell_type": "code",
   "execution_count": 16,
   "metadata": {},
   "outputs": [
    {
     "name": "stdout",
     "output_type": "stream",
     "text": [
      "Configuração: X = 0.7298, w = 0.7298\n",
      "lbest PSO Sphere => valor médio = 902.17, desvio padrão = 284.97\n",
      "gbest PSO Sphere => valor médio = 0.07, desvio padrão = 0.05\n"
     ]
    }
   ],
   "source": [
    " # Main PSO  - Sphere\n",
    "c1 = 1.655\n",
    "c2 = 1.655\n",
    "\n",
    "mean_lbest_sphere_case4, std_dev_lbest_sphere_case4, mean_gbest_sphere_case4, std_dev_gbest_sphere_case4 = calc_mean_dev(objective_function_sphere)\n",
    "\n",
    "print(f'lbest PSO Sphere => valor médio = {mean_lbest_sphere_case4:.2f}, desvio padrão = {std_dev_lbest_sphere_case4:.2f}')\n",
    "print(f'gbest PSO Sphere => valor médio = {mean_gbest_sphere_case4:.2f}, desvio padrão = {std_dev_gbest_sphere_case4:.2f}')\n"
   ]
  },
  {
   "cell_type": "markdown",
   "metadata": {},
   "source": [
    "## Rastrigin function:"
   ]
  },
  {
   "cell_type": "code",
   "execution_count": 17,
   "metadata": {},
   "outputs": [
    {
     "name": "stdout",
     "output_type": "stream",
     "text": [
      "Configuração: X = 0.7298, w = 0.7298\n",
      "lbest PSO Rastrigin => valor médio = 1057.87, desvio padrão = 288.23\n",
      "gbest PSO Rastrigin => valor médio = 31.03, desvio padrão = 8.36\n"
     ]
    }
   ],
   "source": [
    "# Main PSO  - Rastrigin\n",
    "c1 = 1.655 #0.7\n",
    "c2 = 1.655#0.1\n",
    "\n",
    "mean_lbest_rastrigin_case4, std_dev_lbest_rastrigin_case4, mean_gbest_rastrigin_case4, std_dev_gbest_rastrigin_case4 = calc_mean_dev(objective_function_rastrigin)\n",
    "\n",
    "print(f'lbest PSO Rastrigin => valor médio = {mean_lbest_rastrigin_case4:.2f}, desvio padrão = {std_dev_lbest_rastrigin_case4:.2f}')\n",
    "print(f'gbest PSO Rastrigin => valor médio = {mean_gbest_rastrigin_case4:.2f}, desvio padrão = {std_dev_gbest_rastrigin_case4:.2f}')\n"
   ]
  },
  {
   "cell_type": "markdown",
   "metadata": {},
   "source": [
    "# Resultados"
   ]
  },
  {
   "cell_type": "markdown",
   "metadata": {},
   "source": [
    "## Sphere:"
   ]
  },
  {
   "cell_type": "code",
   "execution_count": 18,
   "metadata": {},
   "outputs": [
    {
     "name": "stdout",
     "output_type": "stream",
     "text": [
      "Configuração          Local Best (em anel)    Global Best\n",
      "--------------------  ----------------------  ----------------\n",
      "X = 1, w = 1          3688.39 ± 949.44        1352.92 ± 373.41\n",
      "X = 1, 0 < w < 1      3070.04 ± 666.91        59.23 ± 26.03\n",
      "0 < X < 1, w = 1      2480.56 ± 405.83        20.58 ± 8.03\n",
      "0 < X < 1, 0 < w < 1  902.17 ± 284.97         0.07 ± 0.05\n"
     ]
    }
   ],
   "source": [
    "print(tabulate([['X = 1, w = 1', f\"{mean_lbest_sphere_case1:.2f} \" + u\"\\u00B1\" f\" {std_dev_lbest_sphere_case1:.2f}\" , \n",
    "                 f\"{mean_gbest_sphere_case1:.2f} \" + u\"\\u00B1\" f\" {std_dev_gbest_sphere_case1:.2f}\"], \n",
    "               \n",
    "                ['X = 1, 0 < w < 1', f\"{mean_lbest_sphere_case2:.2f} \" + u\"\\u00B1\" f\" {std_dev_lbest_sphere_case2:.2f}\" , \n",
    "                 f\"{mean_gbest_sphere_case2:.2f} \" + u\"\\u00B1\" f\" {std_dev_gbest_sphere_case2:.2f}\"],\n",
    "               \n",
    "                ['0 < X < 1, w = 1', f\"{mean_lbest_sphere_case3:.2f} \" + u\"\\u00B1\" f\" {std_dev_lbest_sphere_case3:.2f}\" , \n",
    "                 f\"{mean_gbest_sphere_case3:.2f} \" + u\"\\u00B1\" f\" {std_dev_gbest_sphere_case3:.2f}\"],\n",
    "               \n",
    "                ['0 < X < 1, 0 < w < 1', f\"{mean_lbest_sphere_case4:.2f} \" + u\"\\u00B1\" f\" {std_dev_lbest_sphere_case4:.2f}\" , \n",
    "                 f\"{mean_gbest_sphere_case4:.2f} \" + u\"\\u00B1\" f\" {std_dev_gbest_sphere_case4:.2f}\"]], \n",
    "               \n",
    "               headers=['Configuração', 'Local Best (em anel)', 'Global Best']))"
   ]
  },
  {
   "cell_type": "markdown",
   "metadata": {},
   "source": [
    "## Rastrigin:"
   ]
  },
  {
   "cell_type": "code",
   "execution_count": 19,
   "metadata": {
    "scrolled": true
   },
   "outputs": [
    {
     "name": "stdout",
     "output_type": "stream",
     "text": [
      "Configuração          Local Best (em anel)    Global Best\n",
      "--------------------  ----------------------  ----------------\n",
      "X = 1, w = 1          3389.93 ± 950.48        1498.93 ± 401.18\n",
      "X = 1, 0 < w < 1      3233.07 ± 704.30        160.84 ± 31.16\n",
      "0 < X < 1, w = 1      2522.14 ± 745.15        98.96 ± 16.09\n",
      "0 < X < 1, 0 < w < 1  1057.87 ± 288.23        31.03 ± 8.36\n"
     ]
    }
   ],
   "source": [
    "print(tabulate([['X = 1, w = 1', f\"{mean_lbest_rastrigin_case1:.2f} \" + u\"\\u00B1\" f\" {std_dev_lbest_rastrigin_case1:.2f}\" , \n",
    "                 f\"{mean_gbest_rastrigin_case1:.2f} \" + u\"\\u00B1\" f\" {std_dev_gbest_rastrigin_case1:.2f}\"], \n",
    "               \n",
    "                ['X = 1, 0 < w < 1', f\"{mean_lbest_rastrigin_case2:.2f} \" + u\"\\u00B1\" f\" {std_dev_lbest_rastrigin_case2:.2f}\" , \n",
    "                 f\"{mean_gbest_rastrigin_case2:.2f} \" + u\"\\u00B1\" f\" {std_dev_gbest_rastrigin_case2:.2f}\"],\n",
    "               \n",
    "                ['0 < X < 1, w = 1', f\"{mean_lbest_rastrigin_case3:.2f} \" + u\"\\u00B1\" f\" {std_dev_lbest_rastrigin_case3:.2f}\" , \n",
    "                 f\"{mean_gbest_rastrigin_case3:.2f} \" + u\"\\u00B1\" f\" {std_dev_gbest_rastrigin_case3:.2f}\"],\n",
    "               \n",
    "                ['0 < X < 1, 0 < w < 1', f\"{mean_lbest_rastrigin_case4:.2f} \" + u\"\\u00B1\" f\" {std_dev_lbest_rastrigin_case4:.2f}\" , \n",
    "                 f\"{mean_gbest_rastrigin_case4:.2f} \" + u\"\\u00B1\" f\" {std_dev_gbest_rastrigin_case4:.2f}\"]], \n",
    "               \n",
    "               headers=['Configuração', 'Local Best (em anel)', 'Global Best']))"
   ]
  },
  {
   "cell_type": "markdown",
   "metadata": {},
   "source": [
    "Observando os resultados apresentados anteriormente, pode-se perceber que o gbest PSO obteve resultados superiores àqueles obtidos com o lbest. Além disso, em ambas implementações, o caso onde X e w foram menor que 1 apresentou resultados mais próximos do mínimo global real. Isso ocorre pois esses fatores reduzem as velocidades das partículas a fim de se atingir a convergência.\n",
    "\n",
    "Como apresentado em [5], o peso de inércia do PSO (w) foi introduzido por [6], e ele tem como objetivo controlar as habilidades de \"exploration\" e \"exploitation\" do enxame. Ele controla o momentum da partícula, diminuindo a contribuição da velocidade anterior. Com w menor que 1, a velocidade das partículas tendem a diminuir até a convergência.\n",
    "\n",
    "O fator de contrição (X) também tem como objetivo controlar as habilidades de \"exploration\" e \"exploitation\" do enxame, melhorando, assim, o tempo de convergência e a qualidade da solução encontrada. Baixos valores de w e X indicam \"exploitation\", enquanto que valores mais altos resultam em \"exploration\" [5]. O modelo com o fator de contrição garante a convergência sob dadas restrições.\n",
    "\n",
    "Foi possível observar, a partir dos resultados, que utilizando um fator de contrição (X) menor que um, e mantendo a inércia (w) igual a um, foi melhor que o contrário (X igual a um e w menor que um). Ao se fazer  X ou w menores que um, já é possível perceber uma melhor convergência do algoritmo, em relação ao caso 1, sem nenhuma restrição.\n",
    "\n",
    "Além disso, como era de se esperar, os resultados para a função de Esfera foram melhores do que para a função Rastrigin. Isso era esperado pois trata-se de uma função unimodal contra uma multimodal.\n",
    "\n",
    "\n",
    "\n"
   ]
  },
  {
   "cell_type": "markdown",
   "metadata": {},
   "source": [
    "# Bibliografia\n",
    "[1] J. J. Liang, B-Y. Qu, P. N. Suganthan, Alfredo G. Hern´andez-D´ıaz, ”Problem Definitions and Evaluation Criteria for the CEC 2013 Special Session and Competition on Real-Parameter Optimization”, Technical Report 201212, Computational Intelligence Laboratory, Zhengzhou University, Zhengzhou China and Technical Report, Nanyang Technological University, Singapore, January 2013.\n",
    "\n",
    "[2] LI, Xiaodong. Niching without niching parameters: particle swarm optimization using a ring topology. IEEE Transactions on Evolutionary Computation, v. 14, n. 1, p. 150-169, 2009.\n",
    "\n",
    "[3] SENGUPTA, Saptarshi; BASAK, Sanchita; PETERS, Richard Alan. Particle Swarm Optimization: A survey of historical and recent developments with hybridization perspectives. Machine Learning and Knowledge Extraction, v. 1, n. 1, p. 157-191, 2019.\n",
    "\n",
    "[4] SERANI, A. et al. On the use of synchronous and asynchronous single-objective deterministic particle swarm optimization in ship design problems. In: Proceeding of OPT-i, International Conference on Engineering and Applied Sciences Optimization, Kos Island, Greece. 2014.\n",
    "\n",
    "[5] Frederico Gadelha Guimarães, \"Particle Swarm Optimization\", EEE882 - Evolutionary Computation. Machine Intelligence and Data Science (MINDS) Lab\n",
    "\n",
    "[6] EBERHART, R. C. ; SHI, Y. ; KENNEDY, J. Swarm Intelligence. Burlington,\n",
    "MA, USA : Morgan Kaufmann, 2001."
   ]
  },
  {
   "cell_type": "code",
   "execution_count": null,
   "metadata": {},
   "outputs": [],
   "source": []
  }
 ],
 "metadata": {
  "kernelspec": {
   "display_name": "Python 3",
   "language": "python",
   "name": "python3"
  },
  "language_info": {
   "codemirror_mode": {
    "name": "ipython",
    "version": 3
   },
   "file_extension": ".py",
   "mimetype": "text/x-python",
   "name": "python",
   "nbconvert_exporter": "python",
   "pygments_lexer": "ipython3",
   "version": "3.8.5"
  }
 },
 "nbformat": 4,
 "nbformat_minor": 4
}
